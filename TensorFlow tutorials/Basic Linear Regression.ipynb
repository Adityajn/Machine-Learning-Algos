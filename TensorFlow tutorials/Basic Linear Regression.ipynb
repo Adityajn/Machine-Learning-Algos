{
 "cells": [
  {
   "cell_type": "code",
   "execution_count": 1,
   "metadata": {
    "collapsed": true
   },
   "outputs": [],
   "source": [
    "import matplotlib.pyplot as plt\n",
    "%matplotlib inline\n",
    "import numpy as np"
   ]
  },
  {
   "cell_type": "code",
   "execution_count": 2,
   "metadata": {},
   "outputs": [
    {
     "name": "stdout",
     "output_type": "stream",
     "text": [
      "(506, 13) (506,)\n"
     ]
    }
   ],
   "source": [
    "from sklearn.datasets import load_boston\n",
    "boston = load_boston()\n",
    "X  = boston.data\n",
    "Y  = boston.target\n",
    "print(X.shape,Y.shape)"
   ]
  },
  {
   "cell_type": "code",
   "execution_count": 3,
   "metadata": {
    "collapsed": true
   },
   "outputs": [],
   "source": [
    "def standardScaler(dataset):\n",
    "    mean = np.mean(dataset,axis=0)\n",
    "    std = np.std(dataset,axis=0)\n",
    "    return (dataset-mean)/std\n",
    "X = standardScaler(X)"
   ]
  },
  {
   "cell_type": "code",
   "execution_count": 4,
   "metadata": {
    "collapsed": true
   },
   "outputs": [],
   "source": [
    "n_train_samples = X.shape[0]\n",
    "n_features = X.shape[1]\n",
    "#append bias\n",
    "X_f = np.c_[np.ones(n_train_samples),X] #np.c_ to append axis\n",
    "Y_f = np.reshape(Y,[n_train_samples,1]) #reshape labels"
   ]
  },
  {
   "cell_type": "code",
   "execution_count": 5,
   "metadata": {},
   "outputs": [
    {
     "name": "stdout",
     "output_type": "stream",
     "text": [
      "(413, 14) (413, 1) (93, 14) (93, 1)\n"
     ]
    }
   ],
   "source": [
    "#train validation split\n",
    "random_indices = np.random.rand(n_train_samples) < 0.80\n",
    "X_train = X_f[random_indices]\n",
    "Y_train = Y_f[random_indices]\n",
    "X_validation = X_f[~random_indices]\n",
    "Y_validation = Y_f[~random_indices]\n",
    "print(X_train.shape,Y_train.shape,X_validation.shape,Y_validation.shape)"
   ]
  },
  {
   "cell_type": "code",
   "execution_count": 6,
   "metadata": {
    "collapsed": true
   },
   "outputs": [],
   "source": [
    "import tensorflow as tf\n",
    "\n",
    "learning_rate = 0.01\n",
    "epochs = 1000\n",
    "cost_history = np.empty(shape=[0],dtype=float)\n",
    "\n",
    "X = tf.placeholder(tf.float64,[None,n_features+1])\n",
    "Y = tf.placeholder(tf.float64,[None,1])\n",
    "W = tf.Variable(tf.ones([n_features+1,1],dtype=np.float64),dtype=tf.float64)\n",
    "\n",
    "init = tf.global_variables_initializer()"
   ]
  },
  {
   "cell_type": "code",
   "execution_count": null,
   "metadata": {
    "collapsed": true
   },
   "outputs": [],
   "source": [
    "#all magic happens here\n",
    "y_ = tf.matmul(X,W)\n",
    "cost = tf.reduce_mean(tf.square(y_-Y))\n",
    "training_step = tf.train.GradientDescentOptimizer(learning_rate=learning_rate).minimize(cost)"
   ]
  },
  {
   "cell_type": "code",
   "execution_count": null,
   "metadata": {},
   "outputs": [
    {
     "name": "stdout",
     "output_type": "stream",
     "text": [
      "MSE : 617.320002109434\n"
     ]
    }
   ],
   "source": [
    "#initialize Session\n",
    "sess = tf.Session()\n",
    "sess.run(init)\n",
    "\n",
    "pred_y = sess.run(y_, feed_dict={X: X_validation})\n",
    "mse = tf.reduce_mean(tf.square(pred_y - Y_validation))\n",
    "print(\"MSE : {}\".format(sess.run(mse)))\n",
    "\n",
    "for epoch in range(epochs):\n",
    "    sess.run(training_step,feed_dict={X:X_train,Y:Y_train})\n",
    "    cost_history = np.append(cost_history,sess.run(cost,feed_dict={X:X_train,Y:Y_train}))"
   ]
  },
  {
   "cell_type": "code",
   "execution_count": null,
   "metadata": {
    "collapsed": true
   },
   "outputs": [],
   "source": [
    "plt.plot(range(epochs),cost_history)\n",
    "plt.xlabel(\"Epochs\")\n",
    "plt.ylabel(\"Cost\")"
   ]
  },
  {
   "cell_type": "code",
   "execution_count": null,
   "metadata": {
    "collapsed": true
   },
   "outputs": [],
   "source": [
    "pred_y = sess.run(y_, feed_dict={X: X_validation})\n",
    "mse = tf.reduce_mean(tf.square(pred_y - Y_validation))\n",
    "print(\"MSE : {}\".format(sess.run(mse)))"
   ]
  },
  {
   "cell_type": "code",
   "execution_count": null,
   "metadata": {
    "collapsed": true
   },
   "outputs": [],
   "source": [
    "sess.close()"
   ]
  },
  {
   "cell_type": "code",
   "execution_count": 13,
   "metadata": {},
   "outputs": [],
   "source": [
    "from sklearn.datasets import load_boston\n",
    "boston = load_boston()\n",
    "X  = boston.data\n",
    "Y  = boston.target\n",
    "data = np.c_[X,Y]"
   ]
  },
  {
   "cell_type": "code",
   "execution_count": 16,
   "metadata": {},
   "outputs": [],
   "source": [
    "import pandas as pd\n",
    "df = pd.DataFrame(data)\n",
    "df.to_csv(\"boston.csv\",index=False)"
   ]
  },
  {
   "cell_type": "code",
   "execution_count": null,
   "metadata": {
    "collapsed": true
   },
   "outputs": [],
   "source": []
  }
 ],
 "metadata": {
  "kernelspec": {
   "display_name": "Python 3",
   "language": "python",
   "name": "python3"
  },
  "language_info": {
   "codemirror_mode": {
    "name": "ipython",
    "version": 3
   },
   "file_extension": ".py",
   "mimetype": "text/x-python",
   "name": "python",
   "nbconvert_exporter": "python",
   "pygments_lexer": "ipython3",
   "version": "3.6.3"
  }
 },
 "nbformat": 4,
 "nbformat_minor": 2
}
