{
 "cells": [
  {
   "cell_type": "code",
   "execution_count": 1,
   "metadata": {
    "collapsed": true
   },
   "outputs": [],
   "source": [
    "import numpy as np\n",
    "import tensorflow as tf"
   ]
  },
  {
   "cell_type": "code",
   "execution_count": 2,
   "metadata": {},
   "outputs": [
    {
     "name": "stdout",
     "output_type": "stream",
     "text": [
      "(569, 30) (569,)\n"
     ]
    }
   ],
   "source": [
    "from sklearn.datasets import load_breast_cancer\n",
    "data = load_breast_cancer().data\n",
    "label = load_breast_cancer().target\n",
    "print(data.shape,label.shape)"
   ]
  },
  {
   "cell_type": "code",
   "execution_count": 3,
   "metadata": {},
   "outputs": [],
   "source": [
    "def StandardScaler(dataset):\n",
    "    mean = np.mean(dataset,axis=0)\n",
    "    std = np.std(dataset,axis=0)\n",
    "    return (dataset-mean)/std\n",
    "data = StandardScaler(data)"
   ]
  },
  {
   "cell_type": "code",
   "execution_count": 4,
   "metadata": {},
   "outputs": [
    {
     "name": "stdout",
     "output_type": "stream",
     "text": [
      "(569, 31) (569, 1)\n"
     ]
    }
   ],
   "source": [
    "n_features = data.shape[1]\n",
    "n_samples = data.shape[0]\n",
    "\n",
    "X = np.c_[np.ones([n_samples,1]),data]\n",
    "Y = np.reshape(label,[n_samples,1])\n",
    "print(X.shape,Y.shape)"
   ]
  },
  {
   "cell_type": "code",
   "execution_count": 5,
   "metadata": {},
   "outputs": [
    {
     "name": "stdout",
     "output_type": "stream",
     "text": [
      "(466, 31) (103, 31) (466, 1) (103, 1)\n"
     ]
    }
   ],
   "source": [
    "# train-validation split\n",
    "rnd_indices = np.random.rand(X.shape[0]) < 0.8\n",
    "X_train = X[rnd_indices]\n",
    "X_validation = X[~rnd_indices]\n",
    "\n",
    "Y_train = Y[rnd_indices]\n",
    "Y_validation = Y[~rnd_indices]\n",
    "print(X_train.shape,X_validation.shape,Y_train.shape,Y_validation.shape)"
   ]
  },
  {
   "cell_type": "code",
   "execution_count": 6,
   "metadata": {},
   "outputs": [],
   "source": [
    "cost_history = np.empty(shape=[0],dtype=float)\n",
    "epochs = 1000\n",
    "learning_rate = 0.05\n",
    "\n",
    "X = tf.placeholder(tf.float64,shape=[None,n_features+1])\n",
    "Y = tf.placeholder(tf.float64,shape=[None,1])\n",
    "W = tf.Variable(np.ones([n_features+1,1]),dtype=np.float64)\n",
    "\n",
    "init = tf.global_variables_initializer()"
   ]
  },
  {
   "cell_type": "code",
   "execution_count": 7,
   "metadata": {},
   "outputs": [],
   "source": [
    "#magic happens here\n",
    "y_ = tf.sigmoid(tf.matmul(X,W))\n",
    "cost = tf.losses.log_loss(Y,y_)\n",
    "optimizer = tf.train.GradientDescentOptimizer(learning_rate=learning_rate).minimize(cost)"
   ]
  },
  {
   "cell_type": "code",
   "execution_count": 8,
   "metadata": {},
   "outputs": [
    {
     "name": "stdout",
     "output_type": "stream",
     "text": [
      "Initial Cost : 10.50395679473877\n"
     ]
    }
   ],
   "source": [
    "#initialize session\n",
    "sess = tf.Session()\n",
    "sess.run(init)\n",
    "\n",
    "init_cost = sess.run(cost,feed_dict={X:X_validation,Y:Y_validation})\n",
    "print(\"Initial Cost : {}\".format(init_cost))\n",
    "\n",
    "for epoch in range(epochs):\n",
    "    _,curr_cost = sess.run([optimizer,cost],feed_dict={X:X_validation,Y:Y_validation})\n",
    "    cost_history = np.append(cost_history,curr_cost)"
   ]
  },
  {
   "cell_type": "code",
   "execution_count": 9,
   "metadata": {},
   "outputs": [
    {
     "data": {
      "text/plain": [
       "[<matplotlib.lines.Line2D at 0x7f1ae00ffd30>]"
      ]
     },
     "execution_count": 9,
     "metadata": {},
     "output_type": "execute_result"
    },
    {
     "data": {
      "image/png": "[encoded data removed]",
      "text/plain": [
       "<matplotlib.figure.Figure at 0x7f1b0a9bb5f8>"
      ]
     },
     "metadata": {},
     "output_type": "display_data"
    }
   ],
   "source": [
    "%matplotlib inline\n",
    "from matplotlib import pyplot as plt\n",
    "plt.plot(range(epochs),cost_history)"
   ]
  },
  {
   "cell_type": "code",
   "execution_count": 10,
   "metadata": {},
   "outputs": [
    {
     "name": "stdout",
     "output_type": "stream",
     "text": [
      "Accuracy : 1.0\n"
     ]
    }
   ],
   "source": [
    "Y_predictions = sess.run(y_,feed_dict={X : X_validation})\n",
    "Y_pred = np.round(Y_predictions)\n",
    "from sklearn.metrics import accuracy_score\n",
    "print(\"Accuracy : {}\".format(accuracy_score(Y_pred,Y_validation)))"
   ]
  },
  {
   "cell_type": "code",
   "execution_count": 11,
   "metadata": {
    "collapsed": true
   },
   "outputs": [],
   "source": [
    "sess.close()"
   ]
  },
  {
   "cell_type": "code",
   "execution_count": null,
   "metadata": {
    "collapsed": true
   },
   "outputs": [],
   "source": []
  }
 ],
 "metadata": {
  "kernelspec": {
   "display_name": "Python 3",
   "language": "python",
   "name": "python3"
  },
  "language_info": {
   "codemirror_mode": {
    "name": "ipython",
    "version": 3
   },
   "file_extension": ".py",
   "mimetype": "text/x-python",
   "name": "python",
   "nbconvert_exporter": "python",
   "pygments_lexer": "ipython3",
   "version": "3.6.3"
  }
 },
 "nbformat": 4,
 "nbformat_minor": 2
}
