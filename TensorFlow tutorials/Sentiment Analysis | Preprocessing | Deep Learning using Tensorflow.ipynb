{
 "cells": [
  {
   "cell_type": "code",
   "execution_count": 2,
   "metadata": {
    "collapsed": true
   },
   "outputs": [],
   "source": [
    "import nltk  #for nlp\n",
    "from nltk.tokenize import word_tokenize # tokenizer : convert sentence to bag of words\n",
    "from nltk.stem import WordNetLemmatizer # stemmer : consider similar looking words as same\n",
    "\n",
    "import numpy as np\n",
    "import random\n",
    "import pickle\n",
    "from collections import Counter"
   ]
  },
  {
   "cell_type": "code",
   "execution_count": 3,
   "metadata": {
    "collapsed": true
   },
   "outputs": [],
   "source": [
    "lemmatizer = WordNetLemmatizer()"
   ]
  },
  {
   "cell_type": "code",
   "execution_count": 4,
   "metadata": {
    "collapsed": true
   },
   "outputs": [],
   "source": [
    "def create_lexicon(pos,neg):\n",
    "    lexicon = []\n",
    "    for file in [pos,neg]:\n",
    "        with open(file,'r') as fp:\n",
    "            contents = fp.readlines()\n",
    "            for line in contents:\n",
    "                all_words = word_tokenize(line)\n",
    "                lexicon += list(all_words)\n",
    "    lexicon = [ lemmatizer.lemmatize(i.lower()) for i in lexicon ]\n",
    "    w_counts = Counter(lexicon)\n",
    "    \n",
    "    l2 = []\n",
    "    for w in w_counts:\n",
    "        if 1000 > w_counts[w] > 50:\n",
    "            l2.append(w)\n",
    "    return l2\n",
    "\n",
    "def sample_handling(sample,lexicon,classification):\n",
    "    featureset = []\n",
    "    with open(sample,'r') as fp:\n",
    "        contents = fp.readlines()\n",
    "        for k in contents:\n",
    "            current_words = word_tokenize(k.lower())\n",
    "            current_words = [ lemmatizer.lemmatize(i) for i in current_words ]\n",
    "            features = np.zeros(len(lexicon))\n",
    "            for word in current_words:\n",
    "                if word.lower() in lexicon:\n",
    "                    index_value =  lexicon.index(word.lower())\n",
    "                    features[index_value] = 1\n",
    "            features = list(features)\n",
    "            featureset.append([features,classification])\n",
    "    return featureset\n",
    "\n",
    "def create_feature_sets_and_labels(pos,neg,test_size=0.1):\n",
    "    lexicon = create_lexicon(pos,neg)\n",
    "    features = []\n",
    "    features += sample_handling(pos,lexicon,[1,0])\n",
    "    features += sample_handling(neg,lexicon,[0,1])\n",
    "    random.shuffle(features)\n",
    "    \n",
    "    features = np.array(features)\n",
    "    testing_size = int(test_size*len(features))\n",
    "    \n",
    "    train_x = list(features[:,0][:-testing_size]) #all rows and their 0th column\n",
    "    train_y = list(features[:,1][:-testing_size]) #all rows and their 1st column\n",
    "    \n",
    "    test_x = list(features[:,0][-testing_size:]) #all rows and their 0th column\n",
    "    test_y = list(features[:,1][-testing_size:])\n",
    "    \n",
    "    return (train_x,train_y,test_x,test_y)\n",
    "    "
   ]
  },
  {
   "cell_type": "code",
   "execution_count": 5,
   "metadata": {
    "collapsed": true,
    "scrolled": true
   },
   "outputs": [],
   "source": [
    "train_x,train_y,test_x,test_y  = create_feature_sets_and_labels('Datasets/pos.txt','Datasets/neg.txt')\n",
    "with open(\"sentiment_analysis_data.pickle\",'wb') as fp:\n",
    "    pickle.dump([train_x,train_y,test_x,test_y],fp)"
   ]
  },
  {
   "cell_type": "code",
   "execution_count": 12,
   "metadata": {},
   "outputs": [],
   "source": [
    "import tensorflow as tf\n",
    "n_nodes_hl1 = 500\n",
    "n_nodes_hl2 = 500\n",
    "n_nodes_hl3 = 500 \n",
    "n_classes = 2\n",
    "batch_size = 100\n",
    "x = tf.placeholder('float',[None,len(train_x[0])]) #if shape is not defined, we can feed in any shape\n",
    "y = tf.placeholder('float',[None,2]) "
   ]
  },
  {
   "cell_type": "code",
   "execution_count": 13,
   "metadata": {
    "collapsed": true
   },
   "outputs": [],
   "source": [
    "def neural_network_model(data):\n",
    "    hidden_layer_1 = {'weights':tf.Variable(tf.random_normal([len(train_x[0]),n_nodes_hl1])),\n",
    "                     'biases':tf.Variable(tf.random_normal([n_nodes_hl1]))}\n",
    "    hidden_layer_2 = {'weights':tf.Variable(tf.random_normal([n_nodes_hl1,n_nodes_hl2])),\n",
    "                     'biases':tf.Variable(tf.random_normal([n_nodes_hl2]))}\n",
    "    hidden_layer_3 = {'weights':tf.Variable(tf.random_normal([n_nodes_hl2,n_nodes_hl3])),\n",
    "                     'biases':tf.Variable(tf.random_normal([n_nodes_hl3]))}\n",
    "    \n",
    "    output_layer = {'weights':tf.Variable(tf.random_normal([n_nodes_hl3,n_classes])),\n",
    "                    'biases':tf.Variable(tf.random_normal([n_classes]))}\n",
    "    \n",
    "    l1 = tf.add(tf.matmul(data,hidden_layer_1['weights']),hidden_layer_1['biases'])\n",
    "    l1 = tf.nn.relu(l1)\n",
    "    l2 = tf.add(tf.matmul(l1,hidden_layer_2['weights']),hidden_layer_2['biases'])\n",
    "    l2 = tf.nn.relu(l2)\n",
    "    l3 = tf.add(tf.matmul(l2,hidden_layer_3['weights']),hidden_layer_3['biases'])\n",
    "    l3 = tf.nn.relu(l3)\n",
    "    \n",
    "    output  = tf.add(tf.matmul(l3,output_layer['weights']),output_layer['biases'])\n",
    "    return output #tf.nn.softmax(output)"
   ]
  },
  {
   "cell_type": "code",
   "execution_count": 14,
   "metadata": {
    "collapsed": true
   },
   "outputs": [],
   "source": [
    "def train_neural_network(x):\n",
    "    prediction = neural_network_model(x)\n",
    "    cost = tf.reduce_mean(tf.nn.softmax_cross_entropy_with_logits(logits=prediction,labels=y))\n",
    "    optimizer = tf.train.AdamOptimizer().minimize(cost)\n",
    "    hm_epochs = 10\n",
    "    \n",
    "    with tf.Session() as sess:\n",
    "        sess.run(tf.global_variables_initializer()) \n",
    "        for epoch in range(hm_epochs):\n",
    "            epoch_loss = 0\n",
    "            i=0\n",
    "            while i < len(train_x):\n",
    "                start = i\n",
    "                end = i + batch_size\n",
    "                batch_x  = np.array(train_x[start:end])\n",
    "                batch_y = np.array(train_y[start:end])\n",
    "                _, c = sess.run([optimizer,cost],feed_dict={x:batch_x,y:batch_y})\n",
    "                epoch_loss+=c\n",
    "                i+=batch_size\n",
    "            print('Epoch {}/{} completed, loss : {}'.format(epoch+1,hm_epochs,epoch_loss))\n",
    "            \n",
    "        correct = tf.equal(tf.argmax(prediction,1),tf.argmax(y,1))\n",
    "        accuracy = tf.reduce_mean(tf.cast(correct,'float'))\n",
    "        print('Accuracy : {}'.format(accuracy.eval({x:test_x, y:test_y})))"
   ]
  },
  {
   "cell_type": "code",
   "execution_count": 15,
   "metadata": {},
   "outputs": [
    {
     "name": "stdout",
     "output_type": "stream",
     "text": [
      "WARNING:tensorflow:From <ipython-input-14-3e7384fe8584>:3: softmax_cross_entropy_with_logits (from tensorflow.python.ops.nn_ops) is deprecated and will be removed in a future version.\n",
      "Instructions for updating:\n",
      "\n",
      "Future major versions of TensorFlow will allow gradients to flow\n",
      "into the labels input on backprop by default.\n",
      "\n",
      "See @{tf.nn.softmax_cross_entropy_with_logits_v2}.\n",
      "\n",
      "Epoch 1/10 completed, loss : 232740.87231445312\n",
      "Epoch 2/10 completed, loss : 107774.2587890625\n",
      "Epoch 3/10 completed, loss : 67445.84518432617\n",
      "Epoch 4/10 completed, loss : 42985.80920410156\n",
      "Epoch 5/10 completed, loss : 27652.678970336914\n",
      "Epoch 6/10 completed, loss : 18309.538276672363\n",
      "Epoch 7/10 completed, loss : 15639.921699523926\n",
      "Epoch 8/10 completed, loss : 14780.87549495697\n",
      "Epoch 9/10 completed, loss : 12673.709559440613\n",
      "Epoch 10/10 completed, loss : 8830.900351762772\n",
      "Accuracy : 0.5675421953201294\n"
     ]
    }
   ],
   "source": [
    "train_neural_network(x)"
   ]
  },
  {
   "cell_type": "code",
   "execution_count": null,
   "metadata": {
    "collapsed": true
   },
   "outputs": [],
   "source": []
  }
 ],
 "metadata": {
  "kernelspec": {
   "display_name": "Python 3",
   "language": "python",
   "name": "python3"
  },
  "language_info": {
   "codemirror_mode": {
    "name": "ipython",
    "version": 3
   },
   "file_extension": ".py",
   "mimetype": "text/x-python",
   "name": "python",
   "nbconvert_exporter": "python",
   "pygments_lexer": "ipython3",
   "version": "3.6.3"
  }
 },
 "nbformat": 4,
 "nbformat_minor": 2
}
